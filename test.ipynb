{
 "cells": [
  {
   "cell_type": "markdown",
   "metadata": {},
   "source": [
    "# Workflow"
   ]
  },
  {
   "cell_type": "markdown",
   "metadata": {},
   "source": [
    "## 1.1 - Import Packages"
   ]
  },
  {
   "cell_type": "code",
   "execution_count": null,
   "metadata": {},
   "outputs": [],
   "source": [
    "import importlib.metadata\n",
    "\n",
    "packages = [\n",
    "    \"fastapi\",\n",
    "    \"requests\",\n",
    "    \"pywav\",\n",
    "    \"redis\",\n",
    "    \"uuid\",\n",
    "]\n",
    "\n",
    "for package_name in packages:\n",
    "    try:\n",
    "        version = importlib.metadata.version(package_name)\n",
    "        print(f\"'{package_name}' is already installed (version {version}).\")\n",
    "    except importlib.metadata.PackageNotFoundError:\n",
    "        print(f\"'{package_name}' is not installed. Installing now...\")\n",
    "        # Attempt to install the package\n",
    "        ! pip install \"{package_name}\""
   ]
  },
  {
   "cell_type": "markdown",
   "metadata": {},
   "source": [
    "## 1.2 - Redis Ping"
   ]
  },
  {
   "cell_type": "code",
   "execution_count": null,
   "metadata": {},
   "outputs": [],
   "source": [
    "import redis\n",
    "\n",
    "redis_client = redis.Redis(host=\"localhost\", port=6379, decode_responses=True)\n",
    "redis_client.ping()"
   ]
  },
  {
   "cell_type": "markdown",
   "metadata": {},
   "source": [
    "## 1.3 - Generate random UUID"
   ]
  },
  {
   "cell_type": "code",
   "execution_count": null,
   "metadata": {},
   "outputs": [],
   "source": [
    "from uuid import uuid4\n",
    "\n",
    "redis_id = uuid4()\n",
    "print(redis_id)"
   ]
  },
  {
   "cell_type": "markdown",
   "metadata": {},
   "source": [
    "# 2.0 - Redis Channels"
   ]
  },
  {
   "cell_type": "markdown",
   "metadata": {},
   "source": [
    "### 2.1 - Create a Redis Channel"
   ]
  },
  {
   "cell_type": "code",
   "execution_count": null,
   "metadata": {},
   "outputs": [],
   "source": [
    "from redis_pool import RedisPoolProvider, publish\n",
    "from fastapi import Depends\n",
    "\n",
    "redis_client = RedisPoolProvider()\n",
    "\n",
    "\n",
    "async def create_channel(redis_client: RedisPoolProvider = Depends(RedisPoolProvider)):\n",
    "    channel = f\"{redis_id}:jupyter\"\n",
    "    await publish(redis_client, channel, \"establish channel\")\n",
    "\n",
    "\n",
    "await create_channel(redis_client)"
   ]
  },
  {
   "cell_type": "markdown",
   "metadata": {},
   "source": [
    "### 2.2 - Publish Messages to Redis Channel"
   ]
  },
  {
   "cell_type": "code",
   "execution_count": null,
   "metadata": {},
   "outputs": [],
   "source": [
    "async def publish_message(redis_client: RedisPoolProvider = Depends(RedisPoolProvider)):\n",
    "    channel = f\"{redis_id}:jupyter\"\n",
    "    await publish(redis_client, channel, \"test message\")\n",
    "\n",
    "\n",
    "await publish_message(redis_client)"
   ]
  },
  {
   "cell_type": "markdown",
   "metadata": {},
   "source": [
    "### 2.3 - Subscribe to Redis Channel"
   ]
  },
  {
   "cell_type": "code",
   "execution_count": null,
   "metadata": {},
   "outputs": [],
   "source": [
    "from redis_pool import RedisPoolProvider, subscribe\n",
    "from fastapi import Depends\n",
    "\n",
    "\n",
    "async def create_subscriber(\n",
    "    redis_client: RedisPoolProvider = Depends(RedisPoolProvider),\n",
    "):\n",
    "    channel = f\"{redis_id}:jupyter\"\n",
    "    msg_queue = []\n",
    "    async for msg in subscribe(channel, redis_client):\n",
    "        msg_queue.append(msg)\n",
    "\n",
    "    return msg_queue\n",
    "\n",
    "\n",
    "await create_subscriber(redis_client)"
   ]
  }
 ],
 "metadata": {
  "kernelspec": {
   "display_name": "venv",
   "language": "python",
   "name": "python3"
  },
  "language_info": {
   "codemirror_mode": {
    "name": "ipython",
    "version": 3
   },
   "file_extension": ".py",
   "mimetype": "text/x-python",
   "name": "python",
   "nbconvert_exporter": "python",
   "pygments_lexer": "ipython3",
   "version": "3.12.7"
  }
 },
 "nbformat": 4,
 "nbformat_minor": 2
}
